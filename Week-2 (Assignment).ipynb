{
 "cells": [
  {
   "cell_type": "markdown",
   "id": "e0af1eeb-cf12-4d4c-b929-aa5c533a04b1",
   "metadata": {},
   "source": [
    "1. How do you comment code in Python? What are the different types of comments?\n",
    "\n",
    "Ans: Single-line comments: To add a comment that spans a single line, you can use the hash symbol (#). Anything after the # on the same line is considered a comment and is ignored by the interpreter.\n",
    "\n",
    "Multi-line comments: To add comments that span multiple lines, you can use triple quotes (''' or \"\"\") as delimiters. This is often referred to as a docstring and is commonly used to provide documentation for functions, classes, or modules\n"
   ]
  },
  {
   "cell_type": "code",
   "execution_count": 1,
   "id": "fb552f99-1895-4467-a86a-59811ea7c002",
   "metadata": {},
   "outputs": [
    {
     "name": "stdout",
     "output_type": "stream",
     "text": [
      "Hello, World!\n",
      "Hello, World!\n"
     ]
    }
   ],
   "source": [
    "# Question-1\n",
    "# This is a single-line comment\n",
    "print(\"Hello, World!\")  # This is also a comment\n",
    "\"\"\"\n",
    "This is a multi-line comment or docstring.\n",
    "It can span multiple lines and is often used to\n",
    "provide documentation for functions or classes.\n",
    "\"\"\"\n",
    "\n",
    "print(\"Hello, World!\")"
   ]
  },
  {
   "cell_type": "markdown",
   "id": "02af0b51-922a-416b-8ee2-c21d7c329187",
   "metadata": {},
   "source": [
    "2. In Python, variables are used to store data or values that can be referenced and manipulated throughout your code. A variable is essentially a named storage location in the computer's memory.\n",
    "\n",
    "To declare and assign a value to a variable in Python, you can use the following syntax:\n",
    "\n",
    "python\n",
    "Copy code\n",
    "variable_name = value\n",
    "Here, variable_name is the name you choose for the variable, and value is the data or value you want to store in the variable.\n",
    "\n",
    "For example, let's declare a variable named message and assign the string value \"Hello, Python!\" to it:\n",
    "\n",
    "python\n",
    "Copy code\n",
    "message = \"Hello, Python!\"\n",
    "Now, the variable message holds the string \"Hello, Python!\".\n",
    "\n",
    "Variables in Python are dynamically typed, which means you don't need to explicitly declare their type. The type of the variable is automatically inferred based on the value assigned to it. For instance, in the previous example, message is inferred to be of type string because we assigned a string value to it.\n",
    "\n",
    "You can also assign different values to a variable at different points in your code. Here's an example:\n",
    "\n",
    "python\n",
    "Copy code\n",
    "x = 10\n",
    "print(x)  # Output: 10\n",
    "\n",
    "x = 20\n",
    "print(x)  # Output: 20\n",
    "In the above code, the variable x is assigned the value 10 initially and then reassigned the value 20 later. The output of the print statements reflects the current value of the variable.\n",
    "\n",
    "It's important to note that variables in Python are case-sensitive. So, message, Message, and MESSAGE would be treated as different variables. Additionally, Python variable names must follow certain rules, such as starting with a letter or underscore and consisting of letters, digits, and underscores."
   ]
  },
  {
   "cell_type": "markdown",
   "id": "8906eb30-2ab7-45bb-9c9f-d1d68f45ee67",
   "metadata": {},
   "source": [
    "3. In Python, you can convert one data type to another using type conversion functions or by using the target data type as a constructor. Here are some common ways to perform type conversion:\n",
    "\n",
    "Using type conversion functions:\n",
    "\n",
    "int(): Converts a value to an integer.\n",
    "float(): Converts a value to a floating-point number.\n",
    "str(): Converts a value to a string.\n",
    "bool(): Converts a value to a boolean.\n",
    "Here's an example that demonstrates the use of type conversion functions:"
   ]
  },
  {
   "cell_type": "code",
   "execution_count": 2,
   "id": "21981741-febf-40f9-bbe6-a2b048ec67ca",
   "metadata": {},
   "outputs": [
    {
     "name": "stdout",
     "output_type": "stream",
     "text": [
      "10\n",
      "3.14\n",
      "42\n"
     ]
    }
   ],
   "source": [
    "# Converting to integer\n",
    "num_str = \"10\"\n",
    "num_int = int(num_str)\n",
    "print(num_int)  # Output: 10\n",
    "\n",
    "# Converting to float\n",
    "num_str = \"3.14\"\n",
    "num_float = float(num_str)\n",
    "print(num_float)  # Output: 3.14\n",
    "\n",
    "# Converting to string\n",
    "num_int = 42\n",
    "num_str = str(num_int)\n",
    "print(num_str)  # Output: \"42\""
   ]
  },
  {
   "cell_type": "markdown",
   "id": "589e6e84-99a5-4296-ba67-d5e36328f00a",
   "metadata": {},
   "source": [
    "4. To write and execute a Python script from the command line, follow these steps:\n",
    "\n",
    "Open a text editor and create a new file. You can use any text editor of your choice, such as Notepad, Sublime Text, or Visual Studio Code.\n",
    "\n",
    "Write your Python code in the text file. For example, let's create a simple script that prints \"Hello, World!\":\n",
    "\n",
    "python\n",
    "\n",
    "print(\"Hello, World!\")\n",
    "Save the file with a .py extension. For example, you can save it as hello.py.\n",
    "\n",
    "Open a command prompt or terminal window.\n",
    "\n",
    "Navigate to the directory where your Python script is saved using the cd command. For example, if your script is saved on the desktop, you can navigate to the desktop directory using the following command (replace username with your actual username):\n",
    "\n",
    "bash\n",
    "\n",
    "cd C:\\Users\\username\\Desktop\n",
    "Once you are in the correct directory, you can execute the Python script using the python command followed by the name of the script file. In this case, the command would be:\n",
    "\n",
    "bash\n",
    "\n",
    "python hello.py\n",
    "The python command is followed by the name of your script file (hello.py in this example).\n",
    "\n",
    "Press Enter to run the command. The Python script will be executed, and the output will be displayed in the command prompt or terminal window:\n",
    "\n",
    "bash\n",
    "\n",
    "Hello, World!"
   ]
  },
  {
   "cell_type": "markdown",
   "id": "29335f26-65b7-4c7c-8601-212159adfa2b",
   "metadata": {},
   "source": [
    "5. Given a list my_list = [1, 2, 3, 4, 5], write the code to slice the list and obtain the sub-list [2, 3].\n"
   ]
  },
  {
   "cell_type": "code",
   "execution_count": 3,
   "id": "41bc6ddd-cbe3-479e-a288-87ffb7559959",
   "metadata": {},
   "outputs": [
    {
     "name": "stdout",
     "output_type": "stream",
     "text": [
      "[2, 3]\n"
     ]
    }
   ],
   "source": [
    "my_list = [1, 2, 3, 4, 5]\n",
    "sub_list = my_list[1:3]\n",
    "print(sub_list)"
   ]
  },
  {
   "cell_type": "markdown",
   "id": "5a220153-f56a-4dea-92bb-688abc0a68c3",
   "metadata": {},
   "source": [
    "6. In mathematics, a complex number is a number that consists of a real part and an imaginary part. It is expressed in the form a + bi, where a represents the real part, b represents the imaginary part, and i is the imaginary unit (√(-1)).\n",
    "\n",
    "In Python, complex numbers can be represented using the complex data type. The imaginary part is denoted by the suffix j or J. The real and imaginary parts can be either integers or floating-point numbers. Here are a few examples of representing complex numbers in Python:"
   ]
  },
  {
   "cell_type": "code",
   "execution_count": 4,
   "id": "2a349bc6-5310-466c-8c43-b98557339bc7",
   "metadata": {},
   "outputs": [
    {
     "name": "stdout",
     "output_type": "stream",
     "text": [
      "(2+3j)\n",
      "(1.5-2.5j)\n",
      "(4-1j)\n",
      "(2.5+1.7j)\n"
     ]
    }
   ],
   "source": [
    "z1 = 2 + 3j\n",
    "print(z1)  # Output: (2+3j)\n",
    "\n",
    "# Complex number with floating-point parts\n",
    "z2 = 1.5 - 2.5j\n",
    "print(z2)  # Output: (1.5-2.5j)\n",
    "\n",
    "# Complex number with all integer parts\n",
    "z3 = complex(4, -1)\n",
    "print(z3)  # Output: (4-1j)\n",
    "\n",
    "# Complex number with all floating-point parts\n",
    "z4 = complex(2.5, 1.7)\n",
    "print(z4)  # Output: (2.5+1.7j)"
   ]
  },
  {
   "cell_type": "markdown",
   "id": "9c441814-cffd-4004-9fef-98dadc3b82f6",
   "metadata": {},
   "source": [
    "7. What is the correct way to declare a variable named age and assign the value 25 to it?\n",
    "\n",
    "The correct way to declare a variable named age and assign the value 25 to it in Python is as follows:"
   ]
  },
  {
   "cell_type": "code",
   "execution_count": 5,
   "id": "89346412-0ac1-4da0-9789-fe5132fe846a",
   "metadata": {},
   "outputs": [],
   "source": [
    "age = 25"
   ]
  },
  {
   "cell_type": "markdown",
   "id": "a9952a54-f012-45bb-835c-7a65404b47a7",
   "metadata": {},
   "source": [
    "8. Declare a variable named price and assign the value 9.99 to it. What data type does this variable\n",
    "belong to?\n"
   ]
  },
  {
   "cell_type": "code",
   "execution_count": 6,
   "id": "6d77f221-a64f-4e4d-b748-210e284a880c",
   "metadata": {},
   "outputs": [
    {
     "name": "stdout",
     "output_type": "stream",
     "text": [
      "<class 'float'>\n"
     ]
    }
   ],
   "source": [
    "price=9.99\n",
    "print (type(price))"
   ]
  },
  {
   "cell_type": "markdown",
   "id": "3cb0ddcb-a003-46fa-b9c9-ec07092ee3fe",
   "metadata": {},
   "source": [
    "9. Create a variable named name and assign your full name to it as a string. How would you print the\n",
    "value of this variable?\n"
   ]
  },
  {
   "cell_type": "code",
   "execution_count": 8,
   "id": "bb0c5dff-6542-4a40-978c-5e0337750344",
   "metadata": {},
   "outputs": [
    {
     "name": "stdout",
     "output_type": "stream",
     "text": [
      "KPS\n"
     ]
    }
   ],
   "source": [
    "#To print the value of the name variable, you can use the print() function in Python. Here's how you can do it:\n",
    "name= 'KPS'\n",
    "print (name)"
   ]
  },
  {
   "cell_type": "markdown",
   "id": "265c0df3-a953-4dfe-98b4-29d751cf1177",
   "metadata": {},
   "source": [
    "10. Given the string \"Hello, World!\", extract the substring \"World\".\n"
   ]
  },
  {
   "cell_type": "code",
   "execution_count": 9,
   "id": "f6a594be-6271-4d3a-a8f9-e84ce075a9dc",
   "metadata": {},
   "outputs": [
    {
     "name": "stdout",
     "output_type": "stream",
     "text": [
      "World\n"
     ]
    }
   ],
   "source": [
    "string = \"Hello, World!\"\n",
    "substring = string[7:12]\n",
    "print(substring)"
   ]
  },
  {
   "cell_type": "markdown",
   "id": "e4045b21-bf55-4def-998d-aa27947e469f",
   "metadata": {},
   "source": [
    "Create a variable named \"is_student\" and assign it a boolean value indicating whether you are\n",
    "currently a student or not."
   ]
  },
  {
   "cell_type": "code",
   "execution_count": null,
   "id": "67a90424-4745-4fd3-8053-7a3354ceb3fd",
   "metadata": {},
   "outputs": [],
   "source": []
  }
 ],
 "metadata": {
  "kernelspec": {
   "display_name": "Python 3 (ipykernel)",
   "language": "python",
   "name": "python3"
  },
  "language_info": {
   "codemirror_mode": {
    "name": "ipython",
    "version": 3
   },
   "file_extension": ".py",
   "mimetype": "text/x-python",
   "name": "python",
   "nbconvert_exporter": "python",
   "pygments_lexer": "ipython3",
   "version": "3.10.8"
  }
 },
 "nbformat": 4,
 "nbformat_minor": 5
}
